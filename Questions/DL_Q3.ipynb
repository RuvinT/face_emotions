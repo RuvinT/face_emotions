{
  "nbformat": 4,
  "nbformat_minor": 0,
  "metadata": {
    "colab": {
      "provenance": []
    },
    "kernelspec": {
      "name": "python3",
      "display_name": "Python 3"
    },
    "language_info": {
      "name": "python"
    }
  },
  "cells": [
    {
      "cell_type": "code",
      "execution_count": 10,
      "metadata": {
        "id": "oZXwbrZWTAaV"
      },
      "outputs": [],
      "source": [
        "# prompt: Build a transfer learnt model from a model trained on EfficientNet by unfreezing some existing layers\n",
        "\n",
        "import tensorflow as tf\n",
        "from tensorflow.keras.layers import Dense, GlobalAveragePooling2D\n",
        "from tensorflow.keras.applications import EfficientNetB0\n",
        "from tensorflow.keras.models import Model\n",
        "\n",
        "# Load the pre-trained EfficientNetB0 model\n",
        "base_model = EfficientNetB0(weights='imagenet', include_top=False)\n",
        "\n",
        "# Freeze the initial layers of the model\n",
        "base_model.trainable = False\n",
        "\n",
        "# Add a global average pooling layer\n",
        "x = base_model.output\n",
        "x = GlobalAveragePooling2D()(x)\n",
        "\n",
        "# Add a fully connected layer with 1024 units\n",
        "x = Dense(1024, activation='relu')(x)\n",
        "\n",
        "# Add a final output layer with 10 units\n",
        "predictions = Dense(10, activation='softmax')(x)\n",
        "\n",
        "# Build the transfer learning model\n",
        "model = Model(inputs=base_model.input, outputs=predictions)\n",
        "\n",
        "# Unfreeze the last 10 layers of the model\n",
        "for layer in model.layers[-10:]:\n",
        "  layer.trainable = True\n",
        "\n",
        "# Compile the model\n",
        "model.compile(optimizer='adam', loss='categorical_crossentropy', metrics=['accuracy'])\n"
      ]
    }
  ]
}